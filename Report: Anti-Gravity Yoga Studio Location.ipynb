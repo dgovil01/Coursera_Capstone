{
    "nbformat_minor": 1, 
    "cells": [
        {
            "source": "## Introduction: Anti-Gravity Yoga Studio Location", 
            "cell_type": "markdown", 
            "metadata": {
                "collapsed": true
            }
        }, 
        {
            "source": "### Background", 
            "cell_type": "markdown", 
            "metadata": {}
        }, 
        {
            "source": "\"The data tells a compelling story,\" says Carin Gorrell, editor-in-chief of Yoga Journal. In recent years, the number of yoga practitioners has increased to more than 36 million, while annual spendings on yoga classes and related accessories has risen to $16 billion. Yoga is a thriving, growing industry.", 
            "cell_type": "markdown", 
            "metadata": {}
        }, 
        {
            "source": "My client is a professional yoga mentor and wishes to tap into his entrepreneurial instincts to create an entire brand around his teaching style and philosophy. He aspecializes in aerial yoga - an artform of gravity-defying poses in a silky sling-like hammock that supports full body weight and aids in accomplishing more than one can do with regular yoga. This technique is relatively new and the territory unexplored so far in the United States.  ", 
            "cell_type": "markdown", 
            "metadata": {}
        }, 
        {
            "source": "### Problem", 
            "cell_type": "markdown", 
            "metadata": {}
        }, 
        {
            "source": "My client wishes to set up an aerial yoga studio but creating a niche in an already established industry is a big challenge. My client feels that to introduce these out-of-the box workouts, there is no better place than Manhattan, New York. This brings us to the biggest obstacle of finding the perfect location in the world's best city already swarming with yoga studios and gyms. Since the existing workout centers are a threat to my client's entreprenurial venture, it is best that we find a location in Manhattan neighborhoods where there are none to minimum number of such fitness studios.", 
            "cell_type": "markdown", 
            "metadata": {}
        }, 
        {
            "source": "### Target Audience/ Stakeholders", 
            "cell_type": "markdown", 
            "metadata": {}
        }, 
        {
            "source": "This project benefits all entrepreneurs who wish to make their mark in the Yoga industry with their unique style of this dscipline. There are 11 types of yoga and innumerable hybrid forms that make this domain open to budding businesses. This project guides them through the process of overcoming the biggest hurdles - finding the perfect location with minimum competition.", 
            "cell_type": "markdown", 
            "metadata": {}
        }, 
        {
            "source": "## Data Description", 
            "cell_type": "markdown", 
            "metadata": {}
        }, 
        {
            "source": "### Sources", 
            "cell_type": "markdown", 
            "metadata": {}
        }, 
        {
            "source": "Data used in this project is retieved from the following two sources:\n\n1. 'newyork_data.json' from https://cocl.us/new_york_dataset\n  \n2. Foursquare location data\n\n   ", 
            "cell_type": "markdown", 
            "metadata": {}
        }, 
        {
            "source": "### Using Data", 
            "cell_type": "markdown", 
            "metadata": {}
        }, 
        {
            "source": "Data from the jason file is filled into a pandas dataframe. It is then cleaned to keep the desired features - Manhattan Neighborhoods and their respective geographical coordinates. From all the boroughs of New York City, we are only interested in working with Manhattan neighborhoods to introduce aerial yoga.\nNext, we pass these neighborhood's latitudes and longitudes into the Foursquare search url. Our search query is for yoga or gym in the radius of 500 meters of these coordinates and limit is set to 100 results for each neighborhood. Search query gives us 1203 results which includes, gyms, yoga centers, pilate studios, and other fitness centers in all the neighborhoods of Manhattan. Response includes: Venue names, location address, location geographical coordinates, postal codes, country, state, formatted address, and their distance from Manhattan. For example,\n\n{'meta': {'code': 200, 'requestId': '5c5dbf7cdd5797193fcd5a55'},\n 'response': {'venues': [{'id': '4c0870ae340720a1703f8393',\n    'name': '505W37 Gym',\n    'location': {'address': '505 W 37th St',\n     'crossStreet': 'btwn 10th Ave & 11th Ave',\n     'lat': 40.75727530635666,\n     'lng': -73.99779701418834,\n     'labeledLatLngs': [{'label': 'display',\n       'lat': 40.75727530635666,\n       'lng': -73.99779701418834}],\n     'distance': 206,\n     'postalCode': '10018',\n     'cc': 'US',\n     'city': 'New York',\n     'state': 'NY',\n     'country': 'United States',\n     'formattedAddress': ['505 W 37th St (btwn 10th Ave & 11th Ave)',\n     \nPandas data frame is made to retieve only those columns which are relevant to our problem. For example,\n\nNeighborhood\tNeighborhood Latitude\tNeighborhood Longitude\tVenue\tPostalCode\tdistance\tVenue Latitude\tVenue Longitude\n0\tBattery Park City\t40.711932\t-74.016869\t225 Rector Place Gym and Studio\tNew York, NY 10280\t328\t40.709183\t-74.015441\n1\tBattery Park City\t40.711932\t-74.016869\tGym @ The Terrace Club\tNew York, NY 10280\t350\t40.708995\t-74.018358\n2\tBattery Park City\t40.711932\t-74.016869\tThe Gym At Soundings\tNew York, NY 10280\t368\t40.708625\t-74.016795\n3\tBattery Park City\t40.711932\t-74.016869\tStuyvesant High School (3rd floor gym)\tNew York, NY 10282\t196\t40.710186\t-74.016563\n4\tBattery Park City\t40.711932\t-74.016869\tGym @ St. John's\tNew York, NY 10007\t513\t40.715166\t-74.012526", 
            "cell_type": "markdown", 
            "metadata": {}
        }, 
        {
            "source": "### Methodology", 
            "cell_type": "markdown", 
            "metadata": {}
        }, 
        {
            "source": "Using Folium, a visual is obtained to see the spread of all the fitness centers in Manhattan neighborhoods. The graphic image is interactive and shows the name and type of fitness centers. We get an overview of neighborhoods where the density of these studios is intense and where they are sparse. We also call for results, using folium, for yoga centers and gyms separately. Using different colors for yoga centers, gyms, Manhattan neighborhoods, and Manhattan main, we are able to visualize them on the same map. This gives us an idea of the spread of these centers in the area. ", 
            "cell_type": "markdown", 
            "metadata": {}
        }, 
        {
            "source": "For further precise information on the location with minimum compettion, we apply KMeans to cluster the neighborhood on the basis of postal codes and distance from Manhattan. The process gives us clusters with minimum density and further information about these neighborhoods is used to select the perfect location to start our Anti-Gravity Yoga Studio. The clusters are mapped to give a visual of five sets of Manhattan neighborhoods with all types of fitness centers that exist there. We further examine each cluster for details on the neighborhoods of interest.                                                                                                                       ", 
            "cell_type": "markdown", 
            "metadata": {}
        }, 
        {
            "source": "### Discussion of Results", 
            "cell_type": "markdown", 
            "metadata": {}
        }, 
        {
            "source": "The results are examined at three levels:\n1. We separately called for gyms and yoga centers in Manhattan Neighborhood coordinates. Each neighborhood coordinate covered a radius of 10km and a sufficient LIMIT to cover all possible centers of each type. Their respective result dataframes and combined visual give an overview of the neighborhoods for our startup business.\n2. We conducted a search query for all types of fitness centers in each neighborhood coordinate with a radius of 10km and sufficient limit to cover all poosible types of activity centers that exist there. The dataframe is used to show all the results (1203) with all the details of interest including name, address, distance from Manhattan main, postal codes, and geographical coordinates. A count of these fitness centers is obtained to see the total number of these centers in each Manhattan neighborhood. An ascending ordered list by counts gives us neighborhoods with minimum occurences of any type of fitness centers first and so on. This gives us a list of neighborhoods with minimum to maximum density of activity centers. \n3. Finally, we apply the machine learning technique of KMeans Clustering to refine our results from the above two actions. We have the neighborhoods with minimum density but we are looking for areas closest possible to Manhattan main as well. Applying KMeans clustering gives us 5 clusters of fitness centers.\n    Cluster 1: Consists of the activity centers, mostly farthest from Manhattan main, and closely packed with each other.\n    Cluster 2: Consists of activity centers relatively less distanced from Manhattan main.\n    Cluster 3, 4, & 5 do a better job of isolating neighborhood with desired attributes.\n", 
            "cell_type": "markdown", 
            "metadata": {}
        }, 
        {
            "source": "### Observations and Recommendations", 
            "cell_type": "markdown", 
            "metadata": {}
        }, 
        {
            "source": "The results of our search query clearly isolate neighborhoods where the density of activity centers is minimum and relative distance from main Manhattan is comparatively less. Based on observation of the results, we have the following recommendations:\n\n1. Consideration of more features to identify the best location for our clients' startup business. Inclusion of per-family-income by   neighborhoods is recommended. More affluent neighborhoods are likely to try new yoga styles like the aerial yoga. \n2. The retail apocalypse, in recent years, is a blessing for small startup businesses. Increasing number of store closures has forced landlords to allow short-term leases for pop-up businesses. A factor that ropes in store closures can further enhance our search for a perfect location for our Anti-Gravity Yoga Studio. ", 
            "cell_type": "markdown", 
            "metadata": {}
        }, 
        {
            "source": "### Conclusion ", 
            "cell_type": "markdown", 
            "metadata": {}
        }, 
        {
            "source": "From the extensive exploration of the Manhattan neighborhoods, the one that is resonably close to the main Manhattan area and has the least density of fitness centers in its Postal Area is:\n    \nMidtown, Postal Code 10018, approximately 300 m from the main Manhattan area. Other contenders are Little Italy and Chelsea approximately 400 m from the main area.\n    ", 
            "cell_type": "markdown", 
            "metadata": {}
        }, 
        {
            "source": "", 
            "cell_type": "code", 
            "metadata": {}, 
            "outputs": [], 
            "execution_count": null
        }
    ], 
    "metadata": {
        "kernelspec": {
            "display_name": "Python 3.5", 
            "name": "python3", 
            "language": "python"
        }, 
        "language_info": {
            "mimetype": "text/x-python", 
            "nbconvert_exporter": "python", 
            "version": "3.5.5", 
            "name": "python", 
            "file_extension": ".py", 
            "pygments_lexer": "ipython3", 
            "codemirror_mode": {
                "version": 3, 
                "name": "ipython"
            }
        }
    }, 
    "nbformat": 4
}