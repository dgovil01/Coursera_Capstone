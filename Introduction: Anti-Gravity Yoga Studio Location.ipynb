{
    "nbformat_minor": 1, 
    "cells": [
        {
            "source": "## Introduction: Anti-Gravity Yoga Studio Location", 
            "cell_type": "markdown", 
            "metadata": {
                "collapsed": true
            }
        }, 
        {
            "source": "### Background", 
            "cell_type": "markdown", 
            "metadata": {}
        }, 
        {
            "source": "\"The data tells a compelling story,\" says Carin Gorrell, editor-in-chief of Yoga Journal. In recent years, the number of yoga practitioners has increased to more than 36 million, while annual spendings on yoga classes and related accessories has risen to $16 billion. Yoga is a thriving, growing industry.", 
            "cell_type": "markdown", 
            "metadata": {}
        }, 
        {
            "source": "My client is a professional yoga mentor and wishes to tap into his entrepreneurial instincts to create an entire brand around his teaching style and philosophy. He aspecializes in aerial yoga - an artform of gravity-defying poses in a silky sling-like hammock that supports full body weight and aids in accomplishing more than one can do with regular yoga. This technique is relatively new and the territory unexplored so far in the United States.  ", 
            "cell_type": "markdown", 
            "metadata": {}
        }, 
        {
            "source": "### Problem", 
            "cell_type": "markdown", 
            "metadata": {}
        }, 
        {
            "source": "My client wishes to set up an aerial yoga studio but creating a niche in an already established industry is a big challenge. My client feels that to introduce these out-of-the box workouts, there is no better place than Manhattan, New York. This brings us to the biggest obstacle of finding the perfect location in the world's best city already swarming with yoga studios and gyms. Since the existing workout centers are a threat to my client's entreprenurial venture, it is best that we find a location in Manhattan neighborhoods where there are none to minimum number of such fitness studios.", 
            "cell_type": "markdown", 
            "metadata": {}
        }, 
        {
            "source": "### Target Audience/ Stakeholders", 
            "cell_type": "markdown", 
            "metadata": {}
        }, 
        {
            "source": "This project benefits all entrepreneurs who wish to make their mark in the Yoga industry with their unique style of this dscipline. There are 11 types of yoga and innumerable hybrid forms that make this domain open to budding businesses. This project guides them through the process of overcoming the biggest hurdles - finding the perfect location with minimum competition.", 
            "cell_type": "markdown", 
            "metadata": {}
        }, 
        {
            "source": "", 
            "cell_type": "code", 
            "metadata": {}, 
            "outputs": [], 
            "execution_count": null
        }
    ], 
    "metadata": {
        "kernelspec": {
            "display_name": "Python 3.5", 
            "name": "python3", 
            "language": "python"
        }, 
        "language_info": {
            "mimetype": "text/x-python", 
            "nbconvert_exporter": "python", 
            "version": "3.5.5", 
            "name": "python", 
            "pygments_lexer": "ipython3", 
            "file_extension": ".py", 
            "codemirror_mode": {
                "version": 3, 
                "name": "ipython"
            }
        }
    }, 
    "nbformat": 4
}